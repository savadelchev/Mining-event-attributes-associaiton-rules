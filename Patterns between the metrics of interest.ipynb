{
 "cells": [
  {
   "cell_type": "code",
   "execution_count": 1,
   "id": "47fe704e",
   "metadata": {},
   "outputs": [
    {
     "data": {
      "application/vnd.jupyter.widget-view+json": {
       "model_id": "cb6a601e1e9b40bc8bb5154f1c10faf7",
       "version_major": 2,
       "version_minor": 0
      },
      "text/plain": [
       "parsing log, completed traces ::   0%|          | 0/150370 [00:00<?, ?it/s]"
      ]
     },
     "metadata": {},
     "output_type": "display_data"
    }
   ],
   "source": [
    "from pm4py.objects.log.importer.xes import importer as xes_importer\n",
    "variant = xes_importer.Variants.ITERPARSE\n",
    "parameters = {variant.value.Parameters.TIMESTAMP_SORT: True,variant.value.Parameters.TIMESTAMP_KEY : 'time:timestamp'}\n",
    "log = xes_importer.apply('Road_Traffic_Fine_Management_Process-Copy1.xes', variant = variant,\n",
    "                         parameters=parameters)"
   ]
  },
  {
   "cell_type": "code",
   "execution_count": 2,
   "id": "f060d47f",
   "metadata": {},
   "outputs": [
    {
     "name": "stdout",
     "output_type": "stream",
     "text": [
      "{'amount': 62.59, 'org:resource': '18', 'dismissal': 'NIL', 'concept:name': 'Create Fine', 'vehicleClass': 'A', 'totalPaymentAmount': 0.0, 'lifecycle:transition': 'complete', 'time:timestamp': datetime.datetime(2000, 1, 1, 0, 0, tzinfo=datetime.timezone(datetime.timedelta(seconds=3600))), 'article': 158, 'points': 0}\n",
      "{'concept:name': 'Send Fine', 'lifecycle:transition': 'complete', 'expense': 11.41, 'time:timestamp': datetime.datetime(2000, 4, 16, 0, 0, tzinfo=datetime.timezone(datetime.timedelta(seconds=7200)))}\n",
      "{'notificationType': 'P', 'concept:name': 'Insert Fine Notification', 'lifecycle:transition': 'complete', 'lastSent': 'N', 'time:timestamp': datetime.datetime(2000, 5, 3, 0, 0, tzinfo=datetime.timezone(datetime.timedelta(seconds=7200)))}\n",
      "{'amount': 125.19, 'concept:name': 'Add penalty', 'lifecycle:transition': 'complete', 'time:timestamp': datetime.datetime(2000, 7, 2, 0, 0, tzinfo=datetime.timezone(datetime.timedelta(seconds=7200)))}\n",
      "{'concept:name': 'Send for Credit Collection', 'lifecycle:transition': 'complete', 'time:timestamp': datetime.datetime(2002, 4, 10, 0, 0, tzinfo=datetime.timezone(datetime.timedelta(seconds=7200)))}\n"
     ]
    }
   ],
   "source": [
    "for event in log[0]:\n",
    "    print(event)"
   ]
  },
  {
   "cell_type": "code",
   "execution_count": 3,
   "id": "2321b7b1",
   "metadata": {},
   "outputs": [
    {
     "name": "stdout",
     "output_type": "stream",
     "text": [
      "['org:resource', 'dismissal', 'vehicleClass', 'concept:name', 'lastSent', 'notificationType']\n",
      "['totalPaymentAmount', 'points', 'amount', 'article']\n"
     ]
    }
   ],
   "source": [
    "import pm4py\n",
    "strings = []\n",
    "numerics = []\n",
    "attributes_list = pm4py.get_event_attributes(log)\n",
    "for a in attributes_list:\n",
    "    attribute_values = pm4py.get_event_attribute_values(log, (a))\n",
    "    type_v = type(list(attribute_values.keys())[0])\n",
    "    sum_attr_values = sum(attribute_values.values())\n",
    "    if type_v == str :\n",
    "        strings.append(a)\n",
    "    elif type_v == float or type_v == int:\n",
    "        if sum_attr_values >= len(log):\n",
    "            numerics.append(a)\n",
    "#for attr in numerics:\n",
    "    #attr_values = pm4py.get_event_attribute_values(log,attr)\n",
    "    #if sum(attr_values.values()) < len(log):\n",
    "        #numerics.remove(attr)\n",
    "print(strings)\n",
    "print(numerics)"
   ]
  },
  {
   "cell_type": "code",
   "execution_count": 4,
   "id": "09862f7c",
   "metadata": {},
   "outputs": [
    {
     "name": "stdout",
     "output_type": "stream",
     "text": [
      "200\n"
     ]
    }
   ],
   "source": [
    "from pm4py.algo.transformation.log_to_features import algorithm as log_to_features\n",
    "\n",
    "data, feature_names = log_to_features.apply(log, parameters={\"str_ev_attr\": strings, \n",
    "                    \"str_tr_attr\": [], \"num_ev_attr\": numerics, \"num_tr_attr\": [], \"str_evsucc_attr\": []})\n",
    "print(len(feature_names))"
   ]
  },
  {
   "cell_type": "code",
   "execution_count": 5,
   "id": "f201dd9d",
   "metadata": {},
   "outputs": [
    {
     "data": {
      "text/html": [
       "<div>\n",
       "<style scoped>\n",
       "    .dataframe tbody tr th:only-of-type {\n",
       "        vertical-align: middle;\n",
       "    }\n",
       "\n",
       "    .dataframe tbody tr th {\n",
       "        vertical-align: top;\n",
       "    }\n",
       "\n",
       "    .dataframe thead th {\n",
       "        text-align: right;\n",
       "    }\n",
       "</style>\n",
       "<table border=\"1\" class=\"dataframe\">\n",
       "  <thead>\n",
       "    <tr style=\"text-align: right;\">\n",
       "      <th></th>\n",
       "      <th>event:org:resource@0</th>\n",
       "      <th>event:org:resource@10</th>\n",
       "      <th>event:org:resource@11</th>\n",
       "      <th>event:org:resource@12</th>\n",
       "      <th>event:org:resource@13</th>\n",
       "      <th>event:org:resource@14</th>\n",
       "      <th>event:org:resource@15</th>\n",
       "      <th>event:org:resource@16</th>\n",
       "      <th>event:org:resource@17</th>\n",
       "      <th>event:org:resource@18</th>\n",
       "      <th>...</th>\n",
       "      <th>event:lastSent@N</th>\n",
       "      <th>event:lastSent@P</th>\n",
       "      <th>event:lastSent@UNDEFINED</th>\n",
       "      <th>event:notificationType@C</th>\n",
       "      <th>event:notificationType@P</th>\n",
       "      <th>event:notificationType@UNDEFINED</th>\n",
       "      <th>event:totalPaymentAmount</th>\n",
       "      <th>event:points</th>\n",
       "      <th>event:amount</th>\n",
       "      <th>event:article</th>\n",
       "    </tr>\n",
       "  </thead>\n",
       "  <tbody>\n",
       "    <tr>\n",
       "      <th>0</th>\n",
       "      <td>0</td>\n",
       "      <td>0</td>\n",
       "      <td>0</td>\n",
       "      <td>0</td>\n",
       "      <td>0</td>\n",
       "      <td>0</td>\n",
       "      <td>0</td>\n",
       "      <td>0</td>\n",
       "      <td>0</td>\n",
       "      <td>1</td>\n",
       "      <td>...</td>\n",
       "      <td>1</td>\n",
       "      <td>0</td>\n",
       "      <td>0</td>\n",
       "      <td>0</td>\n",
       "      <td>1</td>\n",
       "      <td>0</td>\n",
       "      <td>0.00</td>\n",
       "      <td>0</td>\n",
       "      <td>125.19</td>\n",
       "      <td>158</td>\n",
       "    </tr>\n",
       "    <tr>\n",
       "      <th>1</th>\n",
       "      <td>0</td>\n",
       "      <td>0</td>\n",
       "      <td>0</td>\n",
       "      <td>0</td>\n",
       "      <td>0</td>\n",
       "      <td>0</td>\n",
       "      <td>0</td>\n",
       "      <td>0</td>\n",
       "      <td>0</td>\n",
       "      <td>0</td>\n",
       "      <td>...</td>\n",
       "      <td>1</td>\n",
       "      <td>0</td>\n",
       "      <td>0</td>\n",
       "      <td>0</td>\n",
       "      <td>1</td>\n",
       "      <td>0</td>\n",
       "      <td>0.00</td>\n",
       "      <td>0</td>\n",
       "      <td>125.19</td>\n",
       "      <td>158</td>\n",
       "    </tr>\n",
       "    <tr>\n",
       "      <th>2</th>\n",
       "      <td>0</td>\n",
       "      <td>0</td>\n",
       "      <td>0</td>\n",
       "      <td>0</td>\n",
       "      <td>0</td>\n",
       "      <td>0</td>\n",
       "      <td>0</td>\n",
       "      <td>0</td>\n",
       "      <td>0</td>\n",
       "      <td>0</td>\n",
       "      <td>...</td>\n",
       "      <td>1</td>\n",
       "      <td>0</td>\n",
       "      <td>0</td>\n",
       "      <td>0</td>\n",
       "      <td>1</td>\n",
       "      <td>0</td>\n",
       "      <td>42.71</td>\n",
       "      <td>0</td>\n",
       "      <td>62.59</td>\n",
       "      <td>158</td>\n",
       "    </tr>\n",
       "    <tr>\n",
       "      <th>3</th>\n",
       "      <td>0</td>\n",
       "      <td>0</td>\n",
       "      <td>0</td>\n",
       "      <td>0</td>\n",
       "      <td>0</td>\n",
       "      <td>0</td>\n",
       "      <td>0</td>\n",
       "      <td>0</td>\n",
       "      <td>0</td>\n",
       "      <td>0</td>\n",
       "      <td>...</td>\n",
       "      <td>1</td>\n",
       "      <td>0</td>\n",
       "      <td>0</td>\n",
       "      <td>0</td>\n",
       "      <td>1</td>\n",
       "      <td>0</td>\n",
       "      <td>0.00</td>\n",
       "      <td>0</td>\n",
       "      <td>62.59</td>\n",
       "      <td>158</td>\n",
       "    </tr>\n",
       "    <tr>\n",
       "      <th>4</th>\n",
       "      <td>0</td>\n",
       "      <td>0</td>\n",
       "      <td>0</td>\n",
       "      <td>0</td>\n",
       "      <td>0</td>\n",
       "      <td>0</td>\n",
       "      <td>0</td>\n",
       "      <td>0</td>\n",
       "      <td>0</td>\n",
       "      <td>0</td>\n",
       "      <td>...</td>\n",
       "      <td>1</td>\n",
       "      <td>0</td>\n",
       "      <td>0</td>\n",
       "      <td>0</td>\n",
       "      <td>1</td>\n",
       "      <td>0</td>\n",
       "      <td>0.00</td>\n",
       "      <td>0</td>\n",
       "      <td>62.59</td>\n",
       "      <td>158</td>\n",
       "    </tr>\n",
       "    <tr>\n",
       "      <th>...</th>\n",
       "      <td>...</td>\n",
       "      <td>...</td>\n",
       "      <td>...</td>\n",
       "      <td>...</td>\n",
       "      <td>...</td>\n",
       "      <td>...</td>\n",
       "      <td>...</td>\n",
       "      <td>...</td>\n",
       "      <td>...</td>\n",
       "      <td>...</td>\n",
       "      <td>...</td>\n",
       "      <td>...</td>\n",
       "      <td>...</td>\n",
       "      <td>...</td>\n",
       "      <td>...</td>\n",
       "      <td>...</td>\n",
       "      <td>...</td>\n",
       "      <td>...</td>\n",
       "      <td>...</td>\n",
       "      <td>...</td>\n",
       "      <td>...</td>\n",
       "    </tr>\n",
       "    <tr>\n",
       "      <th>150365</th>\n",
       "      <td>0</td>\n",
       "      <td>0</td>\n",
       "      <td>0</td>\n",
       "      <td>0</td>\n",
       "      <td>0</td>\n",
       "      <td>0</td>\n",
       "      <td>0</td>\n",
       "      <td>0</td>\n",
       "      <td>0</td>\n",
       "      <td>0</td>\n",
       "      <td>...</td>\n",
       "      <td>0</td>\n",
       "      <td>0</td>\n",
       "      <td>1</td>\n",
       "      <td>0</td>\n",
       "      <td>0</td>\n",
       "      <td>1</td>\n",
       "      <td>41.00</td>\n",
       "      <td>0</td>\n",
       "      <td>41.00</td>\n",
       "      <td>7</td>\n",
       "    </tr>\n",
       "    <tr>\n",
       "      <th>150366</th>\n",
       "      <td>0</td>\n",
       "      <td>0</td>\n",
       "      <td>0</td>\n",
       "      <td>0</td>\n",
       "      <td>0</td>\n",
       "      <td>0</td>\n",
       "      <td>0</td>\n",
       "      <td>0</td>\n",
       "      <td>0</td>\n",
       "      <td>0</td>\n",
       "      <td>...</td>\n",
       "      <td>0</td>\n",
       "      <td>0</td>\n",
       "      <td>1</td>\n",
       "      <td>0</td>\n",
       "      <td>0</td>\n",
       "      <td>1</td>\n",
       "      <td>41.00</td>\n",
       "      <td>0</td>\n",
       "      <td>41.00</td>\n",
       "      <td>7</td>\n",
       "    </tr>\n",
       "    <tr>\n",
       "      <th>150367</th>\n",
       "      <td>0</td>\n",
       "      <td>0</td>\n",
       "      <td>0</td>\n",
       "      <td>0</td>\n",
       "      <td>0</td>\n",
       "      <td>0</td>\n",
       "      <td>0</td>\n",
       "      <td>0</td>\n",
       "      <td>0</td>\n",
       "      <td>0</td>\n",
       "      <td>...</td>\n",
       "      <td>0</td>\n",
       "      <td>0</td>\n",
       "      <td>1</td>\n",
       "      <td>0</td>\n",
       "      <td>0</td>\n",
       "      <td>1</td>\n",
       "      <td>41.00</td>\n",
       "      <td>0</td>\n",
       "      <td>41.00</td>\n",
       "      <td>7</td>\n",
       "    </tr>\n",
       "    <tr>\n",
       "      <th>150368</th>\n",
       "      <td>0</td>\n",
       "      <td>0</td>\n",
       "      <td>0</td>\n",
       "      <td>0</td>\n",
       "      <td>0</td>\n",
       "      <td>0</td>\n",
       "      <td>0</td>\n",
       "      <td>0</td>\n",
       "      <td>0</td>\n",
       "      <td>0</td>\n",
       "      <td>...</td>\n",
       "      <td>0</td>\n",
       "      <td>0</td>\n",
       "      <td>1</td>\n",
       "      <td>0</td>\n",
       "      <td>0</td>\n",
       "      <td>1</td>\n",
       "      <td>41.00</td>\n",
       "      <td>0</td>\n",
       "      <td>41.00</td>\n",
       "      <td>7</td>\n",
       "    </tr>\n",
       "    <tr>\n",
       "      <th>150369</th>\n",
       "      <td>0</td>\n",
       "      <td>0</td>\n",
       "      <td>0</td>\n",
       "      <td>0</td>\n",
       "      <td>0</td>\n",
       "      <td>0</td>\n",
       "      <td>0</td>\n",
       "      <td>0</td>\n",
       "      <td>0</td>\n",
       "      <td>0</td>\n",
       "      <td>...</td>\n",
       "      <td>0</td>\n",
       "      <td>0</td>\n",
       "      <td>1</td>\n",
       "      <td>0</td>\n",
       "      <td>0</td>\n",
       "      <td>1</td>\n",
       "      <td>41.00</td>\n",
       "      <td>0</td>\n",
       "      <td>41.00</td>\n",
       "      <td>157</td>\n",
       "    </tr>\n",
       "  </tbody>\n",
       "</table>\n",
       "<p>150370 rows × 200 columns</p>\n",
       "</div>"
      ],
      "text/plain": [
       "        event:org:resource@0  event:org:resource@10  event:org:resource@11  \\\n",
       "0                          0                      0                      0   \n",
       "1                          0                      0                      0   \n",
       "2                          0                      0                      0   \n",
       "3                          0                      0                      0   \n",
       "4                          0                      0                      0   \n",
       "...                      ...                    ...                    ...   \n",
       "150365                     0                      0                      0   \n",
       "150366                     0                      0                      0   \n",
       "150367                     0                      0                      0   \n",
       "150368                     0                      0                      0   \n",
       "150369                     0                      0                      0   \n",
       "\n",
       "        event:org:resource@12  event:org:resource@13  event:org:resource@14  \\\n",
       "0                           0                      0                      0   \n",
       "1                           0                      0                      0   \n",
       "2                           0                      0                      0   \n",
       "3                           0                      0                      0   \n",
       "4                           0                      0                      0   \n",
       "...                       ...                    ...                    ...   \n",
       "150365                      0                      0                      0   \n",
       "150366                      0                      0                      0   \n",
       "150367                      0                      0                      0   \n",
       "150368                      0                      0                      0   \n",
       "150369                      0                      0                      0   \n",
       "\n",
       "        event:org:resource@15  event:org:resource@16  event:org:resource@17  \\\n",
       "0                           0                      0                      0   \n",
       "1                           0                      0                      0   \n",
       "2                           0                      0                      0   \n",
       "3                           0                      0                      0   \n",
       "4                           0                      0                      0   \n",
       "...                       ...                    ...                    ...   \n",
       "150365                      0                      0                      0   \n",
       "150366                      0                      0                      0   \n",
       "150367                      0                      0                      0   \n",
       "150368                      0                      0                      0   \n",
       "150369                      0                      0                      0   \n",
       "\n",
       "        event:org:resource@18  ...  event:lastSent@N  event:lastSent@P  \\\n",
       "0                           1  ...                 1                 0   \n",
       "1                           0  ...                 1                 0   \n",
       "2                           0  ...                 1                 0   \n",
       "3                           0  ...                 1                 0   \n",
       "4                           0  ...                 1                 0   \n",
       "...                       ...  ...               ...               ...   \n",
       "150365                      0  ...                 0                 0   \n",
       "150366                      0  ...                 0                 0   \n",
       "150367                      0  ...                 0                 0   \n",
       "150368                      0  ...                 0                 0   \n",
       "150369                      0  ...                 0                 0   \n",
       "\n",
       "        event:lastSent@UNDEFINED  event:notificationType@C  \\\n",
       "0                              0                         0   \n",
       "1                              0                         0   \n",
       "2                              0                         0   \n",
       "3                              0                         0   \n",
       "4                              0                         0   \n",
       "...                          ...                       ...   \n",
       "150365                         1                         0   \n",
       "150366                         1                         0   \n",
       "150367                         1                         0   \n",
       "150368                         1                         0   \n",
       "150369                         1                         0   \n",
       "\n",
       "        event:notificationType@P  event:notificationType@UNDEFINED  \\\n",
       "0                              1                                 0   \n",
       "1                              1                                 0   \n",
       "2                              1                                 0   \n",
       "3                              1                                 0   \n",
       "4                              1                                 0   \n",
       "...                          ...                               ...   \n",
       "150365                         0                                 1   \n",
       "150366                         0                                 1   \n",
       "150367                         0                                 1   \n",
       "150368                         0                                 1   \n",
       "150369                         0                                 1   \n",
       "\n",
       "        event:totalPaymentAmount  event:points  event:amount  event:article  \n",
       "0                           0.00             0        125.19            158  \n",
       "1                           0.00             0        125.19            158  \n",
       "2                          42.71             0         62.59            158  \n",
       "3                           0.00             0         62.59            158  \n",
       "4                           0.00             0         62.59            158  \n",
       "...                          ...           ...           ...            ...  \n",
       "150365                     41.00             0         41.00              7  \n",
       "150366                     41.00             0         41.00              7  \n",
       "150367                     41.00             0         41.00              7  \n",
       "150368                     41.00             0         41.00              7  \n",
       "150369                     41.00             0         41.00            157  \n",
       "\n",
       "[150370 rows x 200 columns]"
      ]
     },
     "execution_count": 5,
     "metadata": {},
     "output_type": "execute_result"
    }
   ],
   "source": [
    "import pandas as pd\n",
    "df = pd.DataFrame(data, columns=feature_names)\n",
    "df"
   ]
  },
  {
   "cell_type": "code",
   "execution_count": 6,
   "id": "833f1672",
   "metadata": {},
   "outputs": [],
   "source": [
    "#for x in df.columns:\n",
    "    #print(x)"
   ]
  },
  {
   "cell_type": "code",
   "execution_count": 7,
   "id": "bc29c65b",
   "metadata": {},
   "outputs": [
    {
     "name": "stdout",
     "output_type": "stream",
     "text": [
      "['event:lastSent@UNDEFINED', 'event:notificationType@UNDEFINED']\n"
     ]
    }
   ],
   "source": [
    "columns = []\n",
    "import re\n",
    "r = '[\\w\\d\\s:]+@UNDEFINED'\n",
    "for x in df.columns:\n",
    "    if re.search(r,x):\n",
    "        columns.append(x)\n",
    "\n",
    "print(columns)"
   ]
  },
  {
   "cell_type": "code",
   "execution_count": 8,
   "id": "967306a8",
   "metadata": {},
   "outputs": [],
   "source": [
    "df.drop(columns = columns, inplace = True)"
   ]
  },
  {
   "cell_type": "code",
   "execution_count": 9,
   "id": "61031342",
   "metadata": {},
   "outputs": [
    {
     "name": "stdout",
     "output_type": "stream",
     "text": [
      "event:totalPaymentAmount\n",
      "event:points\n",
      "event:amount\n",
      "event:article\n"
     ]
    }
   ],
   "source": [
    "for col in df.columns:\n",
    "    for val in df[col].unique():\n",
    "        if val != 1 and val != 0:\n",
    "            print(col)\n",
    "            break"
   ]
  },
  {
   "cell_type": "code",
   "execution_count": 10,
   "id": "baa106b8",
   "metadata": {},
   "outputs": [],
   "source": [
    "amount = pd.cut(df['event:amount'], \n",
    "                            bins=[0,0.00001,50,100,999,100000], \n",
    "                            labels=['Zero','Low', 'Medium', 'High', 'Really High'],\n",
    "                            include_lowest = True)\n",
    "totalpayment=pd.cut(df['event:totalPaymentAmount'], \n",
    "                            bins=[0,0.00001,50,100,999,100000], \n",
    "                            labels=['Zero','Low', 'Medium', 'High', 'Really High'],\n",
    "                            include_lowest = True)\n",
    "article = pd.cut(df['event:article'], \n",
    "                            bins=[0,0.00001,50,100,999,100000], \n",
    "                            labels=['Zero','Low', 'Medium', 'High', 'Really High'],\n",
    "                            include_lowest = True)\n",
    "points = pd.cut(df['event:points'],\n",
    "                       bins = [0.0,0.00001,50,100,999,100000],\n",
    "                       labels = ['Zero','Low', 'Medium', 'High', 'Really High'],\n",
    "                        include_lowest = True)"
   ]
  },
  {
   "cell_type": "code",
   "execution_count": 11,
   "id": "8d9d822e",
   "metadata": {},
   "outputs": [],
   "source": [
    "df.drop(columns = ['event:article','event:totalPaymentAmount','event:points','event:amount'], inplace = True)"
   ]
  },
  {
   "cell_type": "code",
   "execution_count": 12,
   "id": "0d38adc3",
   "metadata": {},
   "outputs": [],
   "source": [
    "df['event:points'] = points\n",
    "df['event:article'] =article\n",
    "df['event:totalPaymentAmount'] = totalpayment\n",
    "df['event:amount'] = amount"
   ]
  },
  {
   "cell_type": "code",
   "execution_count": 13,
   "id": "a49abe55",
   "metadata": {},
   "outputs": [],
   "source": [
    "df = pd.get_dummies(data = df, columns = {'event:article','event:points','event:totalPaymentAmount','event:amount'},prefix_sep='@')"
   ]
  },
  {
   "cell_type": "code",
   "execution_count": 14,
   "id": "81060a1a",
   "metadata": {},
   "outputs": [
    {
     "data": {
      "text/plain": [
       "(150370, 214)"
      ]
     },
     "execution_count": 14,
     "metadata": {},
     "output_type": "execute_result"
    }
   ],
   "source": [
    "df.shape"
   ]
  },
  {
   "cell_type": "code",
   "execution_count": 15,
   "id": "2818c7f1",
   "metadata": {},
   "outputs": [
    {
     "name": "stdout",
     "output_type": "stream",
     "text": [
      "['event:concept:name@Add penalty', 'event:concept:name@Appeal to Judge', 'event:concept:name@Create Fine', 'event:concept:name@Insert Date Appeal to Prefecture', 'event:concept:name@Insert Fine Notification', 'event:concept:name@Notify Result Appeal to Offender', 'event:concept:name@Payment', 'event:concept:name@Receive Result Appeal from Prefecture', 'event:concept:name@Send Appeal to Prefecture', 'event:concept:name@Send Fine', 'event:concept:name@Send for Credit Collection']\n"
     ]
    }
   ],
   "source": [
    "columns = []\n",
    "import re\n",
    "r = 'event:concept:name@[\\w\\d\\s:]+'\n",
    "for x in df.columns:\n",
    "    if re.search(r,x):\n",
    "        columns.append(x)\n",
    "\n",
    "print(columns)"
   ]
  },
  {
   "cell_type": "code",
   "execution_count": 16,
   "id": "f6fb7d6e",
   "metadata": {},
   "outputs": [],
   "source": [
    "df.drop(columns = columns, inplace = True)"
   ]
  },
  {
   "cell_type": "code",
   "execution_count": 17,
   "id": "c835009c",
   "metadata": {},
   "outputs": [
    {
     "data": {
      "text/plain": [
       "(150370, 203)"
      ]
     },
     "execution_count": 17,
     "metadata": {},
     "output_type": "execute_result"
    }
   ],
   "source": [
    "df.shape"
   ]
  },
  {
   "cell_type": "code",
   "execution_count": 18,
   "id": "6a08b9e3",
   "metadata": {},
   "outputs": [
    {
     "data": {
      "text/plain": [
       "event:dismissal@NIL                0.996648\n",
       "event:points@Zero                  0.976405\n",
       "event:vehicleClass@A               0.975673\n",
       "event:article@High                 0.703837\n",
       "event:totalPaymentAmount@Zero      0.536384\n",
       "event:notificationType@P           0.530199\n",
       "event:amount@Low                   0.482151\n",
       "event:amount@Medium                0.411438\n",
       "event:totalPaymentAmount@Low       0.343280\n",
       "event:lastSent@P                   0.309078\n",
       "event:article@Low                  0.291454\n",
       "event:lastSent@N                   0.201589\n",
       "event:amount@High                  0.104043\n",
       "event:totalPaymentAmount@Medium    0.099029\n",
       "event:org:resource@538             0.057245\n",
       "event:org:resource@550             0.052770\n",
       "event:org:resource@541             0.048919\n",
       "event:org:resource@537             0.046093\n",
       "event:org:resource@559             0.042755\n",
       "event:org:resource@557             0.036151\n",
       "dtype: float64"
      ]
     },
     "execution_count": 18,
     "metadata": {},
     "output_type": "execute_result"
    }
   ],
   "source": [
    "df.mean().sort_values(ascending = False).head(20)"
   ]
  },
  {
   "cell_type": "code",
   "execution_count": 19,
   "id": "06b774fe",
   "metadata": {},
   "outputs": [],
   "source": [
    "for x in df.columns:\n",
    "    if df[x].mean() > 0.95:\n",
    "        df.drop(columns = [x], inplace = True)"
   ]
  },
  {
   "cell_type": "code",
   "execution_count": 20,
   "id": "6cde62db",
   "metadata": {},
   "outputs": [],
   "source": [
    "from mlxtend.frequent_patterns import apriori\n",
    "frequent_itemsets = apriori(df, min_support = 0.01,max_len = 3, use_colnames = True)"
   ]
  },
  {
   "cell_type": "code",
   "execution_count": 21,
   "id": "71d0e24a",
   "metadata": {},
   "outputs": [],
   "source": [
    "pd.set_option('display.max_colwidth', None)"
   ]
  },
  {
   "cell_type": "code",
   "execution_count": 22,
   "id": "03eab96f",
   "metadata": {},
   "outputs": [
    {
     "data": {
      "text/html": [
       "<div>\n",
       "<style scoped>\n",
       "    .dataframe tbody tr th:only-of-type {\n",
       "        vertical-align: middle;\n",
       "    }\n",
       "\n",
       "    .dataframe tbody tr th {\n",
       "        vertical-align: top;\n",
       "    }\n",
       "\n",
       "    .dataframe thead th {\n",
       "        text-align: right;\n",
       "    }\n",
       "</style>\n",
       "<table border=\"1\" class=\"dataframe\">\n",
       "  <thead>\n",
       "    <tr style=\"text-align: right;\">\n",
       "      <th></th>\n",
       "      <th>support</th>\n",
       "      <th>itemsets</th>\n",
       "    </tr>\n",
       "  </thead>\n",
       "  <tbody>\n",
       "    <tr>\n",
       "      <th>35</th>\n",
       "      <td>0.703837</td>\n",
       "      <td>(event:article@High)</td>\n",
       "    </tr>\n",
       "    <tr>\n",
       "      <th>30</th>\n",
       "      <td>0.536384</td>\n",
       "      <td>(event:totalPaymentAmount@Zero)</td>\n",
       "    </tr>\n",
       "    <tr>\n",
       "      <th>25</th>\n",
       "      <td>0.530199</td>\n",
       "      <td>(event:notificationType@P)</td>\n",
       "    </tr>\n",
       "    <tr>\n",
       "      <th>26</th>\n",
       "      <td>0.482151</td>\n",
       "      <td>(event:amount@Low)</td>\n",
       "    </tr>\n",
       "    <tr>\n",
       "      <th>27</th>\n",
       "      <td>0.411438</td>\n",
       "      <td>(event:amount@Medium)</td>\n",
       "    </tr>\n",
       "    <tr>\n",
       "      <th>...</th>\n",
       "      <td>...</td>\n",
       "      <td>...</td>\n",
       "    </tr>\n",
       "    <tr>\n",
       "      <th>105</th>\n",
       "      <td>0.010062</td>\n",
       "      <td>(event:amount@Medium, event:org:resource@558)</td>\n",
       "    </tr>\n",
       "    <tr>\n",
       "      <th>275</th>\n",
       "      <td>0.010049</td>\n",
       "      <td>(event:amount@Medium, event:org:resource@558, event:notificationType@P)</td>\n",
       "    </tr>\n",
       "    <tr>\n",
       "      <th>276</th>\n",
       "      <td>0.010042</td>\n",
       "      <td>(event:org:resource@558, event:article@High, event:notificationType@P)</td>\n",
       "    </tr>\n",
       "    <tr>\n",
       "      <th>273</th>\n",
       "      <td>0.010042</td>\n",
       "      <td>(event:lastSent@P, event:org:resource@558, event:amount@Medium)</td>\n",
       "    </tr>\n",
       "    <tr>\n",
       "      <th>274</th>\n",
       "      <td>0.010035</td>\n",
       "      <td>(event:lastSent@P, event:org:resource@558, event:article@High)</td>\n",
       "    </tr>\n",
       "  </tbody>\n",
       "</table>\n",
       "<p>377 rows × 2 columns</p>\n",
       "</div>"
      ],
      "text/plain": [
       "      support  \\\n",
       "35   0.703837   \n",
       "30   0.536384   \n",
       "25   0.530199   \n",
       "26   0.482151   \n",
       "27   0.411438   \n",
       "..        ...   \n",
       "105  0.010062   \n",
       "275  0.010049   \n",
       "276  0.010042   \n",
       "273  0.010042   \n",
       "274  0.010035   \n",
       "\n",
       "                                                                    itemsets  \n",
       "35                                                      (event:article@High)  \n",
       "30                                           (event:totalPaymentAmount@Zero)  \n",
       "25                                                (event:notificationType@P)  \n",
       "26                                                        (event:amount@Low)  \n",
       "27                                                     (event:amount@Medium)  \n",
       "..                                                                       ...  \n",
       "105                            (event:amount@Medium, event:org:resource@558)  \n",
       "275  (event:amount@Medium, event:org:resource@558, event:notificationType@P)  \n",
       "276   (event:org:resource@558, event:article@High, event:notificationType@P)  \n",
       "273          (event:lastSent@P, event:org:resource@558, event:amount@Medium)  \n",
       "274           (event:lastSent@P, event:org:resource@558, event:article@High)  \n",
       "\n",
       "[377 rows x 2 columns]"
      ]
     },
     "execution_count": 22,
     "metadata": {},
     "output_type": "execute_result"
    }
   ],
   "source": [
    "frequent_itemsets.sort_values(by = 'support',ascending = False)"
   ]
  },
  {
   "cell_type": "code",
   "execution_count": 23,
   "id": "42433c2f",
   "metadata": {},
   "outputs": [
    {
     "data": {
      "text/plain": [
       "pandas.core.frame.DataFrame"
      ]
     },
     "execution_count": 23,
     "metadata": {},
     "output_type": "execute_result"
    }
   ],
   "source": [
    "type(frequent_itemsets)"
   ]
  },
  {
   "cell_type": "code",
   "execution_count": 83,
   "id": "21f06371",
   "metadata": {},
   "outputs": [],
   "source": [
    "from mlxtend.frequent_patterns import association_rules\n",
    "rules_mlxtend1 = association_rules(frequent_itemsets, metric=\"leverage\", min_threshold=0.05)"
   ]
  },
  {
   "cell_type": "code",
   "execution_count": 25,
   "id": "95d23650",
   "metadata": {},
   "outputs": [],
   "source": [
    "pd.set_option('display.max_colwidth', None)"
   ]
  },
  {
   "cell_type": "code",
   "execution_count": 84,
   "id": "45147269",
   "metadata": {},
   "outputs": [
    {
     "data": {
      "text/html": [
       "<div>\n",
       "<style scoped>\n",
       "    .dataframe tbody tr th:only-of-type {\n",
       "        vertical-align: middle;\n",
       "    }\n",
       "\n",
       "    .dataframe tbody tr th {\n",
       "        vertical-align: top;\n",
       "    }\n",
       "\n",
       "    .dataframe thead th {\n",
       "        text-align: right;\n",
       "    }\n",
       "</style>\n",
       "<table border=\"1\" class=\"dataframe\">\n",
       "  <thead>\n",
       "    <tr style=\"text-align: right;\">\n",
       "      <th></th>\n",
       "      <th>antecedents</th>\n",
       "      <th>consequents</th>\n",
       "      <th>antecedent support</th>\n",
       "      <th>consequent support</th>\n",
       "      <th>support</th>\n",
       "      <th>confidence</th>\n",
       "      <th>lift</th>\n",
       "      <th>leverage</th>\n",
       "      <th>conviction</th>\n",
       "    </tr>\n",
       "  </thead>\n",
       "  <tbody>\n",
       "    <tr>\n",
       "      <th>0</th>\n",
       "      <td>(event:notificationType@P)</td>\n",
       "      <td>(event:lastSent@N)</td>\n",
       "      <td>0.530199</td>\n",
       "      <td>0.201589</td>\n",
       "      <td>0.201137</td>\n",
       "      <td>0.379362</td>\n",
       "      <td>1.881854</td>\n",
       "      <td>0.094255</td>\n",
       "      <td>1.286435</td>\n",
       "    </tr>\n",
       "    <tr>\n",
       "      <th>1</th>\n",
       "      <td>(event:lastSent@N)</td>\n",
       "      <td>(event:notificationType@P)</td>\n",
       "      <td>0.201589</td>\n",
       "      <td>0.530199</td>\n",
       "      <td>0.201137</td>\n",
       "      <td>0.997757</td>\n",
       "      <td>1.881854</td>\n",
       "      <td>0.094255</td>\n",
       "      <td>209.427683</td>\n",
       "    </tr>\n",
       "    <tr>\n",
       "      <th>2</th>\n",
       "      <td>(event:amount@Medium)</td>\n",
       "      <td>(event:lastSent@N)</td>\n",
       "      <td>0.411438</td>\n",
       "      <td>0.201589</td>\n",
       "      <td>0.141664</td>\n",
       "      <td>0.344314</td>\n",
       "      <td>1.707995</td>\n",
       "      <td>0.058722</td>\n",
       "      <td>1.217672</td>\n",
       "    </tr>\n",
       "    <tr>\n",
       "      <th>3</th>\n",
       "      <td>(event:lastSent@N)</td>\n",
       "      <td>(event:amount@Medium)</td>\n",
       "      <td>0.201589</td>\n",
       "      <td>0.411438</td>\n",
       "      <td>0.141664</td>\n",
       "      <td>0.702735</td>\n",
       "      <td>1.707995</td>\n",
       "      <td>0.058722</td>\n",
       "      <td>1.979921</td>\n",
       "    </tr>\n",
       "    <tr>\n",
       "      <th>4</th>\n",
       "      <td>(event:totalPaymentAmount@Zero)</td>\n",
       "      <td>(event:lastSent@N)</td>\n",
       "      <td>0.536384</td>\n",
       "      <td>0.201589</td>\n",
       "      <td>0.163989</td>\n",
       "      <td>0.305731</td>\n",
       "      <td>1.516600</td>\n",
       "      <td>0.055860</td>\n",
       "      <td>1.150001</td>\n",
       "    </tr>\n",
       "    <tr>\n",
       "      <th>...</th>\n",
       "      <td>...</td>\n",
       "      <td>...</td>\n",
       "      <td>...</td>\n",
       "      <td>...</td>\n",
       "      <td>...</td>\n",
       "      <td>...</td>\n",
       "      <td>...</td>\n",
       "      <td>...</td>\n",
       "      <td>...</td>\n",
       "    </tr>\n",
       "    <tr>\n",
       "      <th>83</th>\n",
       "      <td>(event:amount@Low)</td>\n",
       "      <td>(event:article@High, event:totalPaymentAmount@Low)</td>\n",
       "      <td>0.482151</td>\n",
       "      <td>0.227379</td>\n",
       "      <td>0.202314</td>\n",
       "      <td>0.419608</td>\n",
       "      <td>1.845411</td>\n",
       "      <td>0.092683</td>\n",
       "      <td>1.331205</td>\n",
       "    </tr>\n",
       "    <tr>\n",
       "      <th>84</th>\n",
       "      <td>(event:amount@Medium, event:article@High)</td>\n",
       "      <td>(event:totalPaymentAmount@Zero)</td>\n",
       "      <td>0.318188</td>\n",
       "      <td>0.536384</td>\n",
       "      <td>0.224207</td>\n",
       "      <td>0.704636</td>\n",
       "      <td>1.313679</td>\n",
       "      <td>0.053536</td>\n",
       "      <td>1.569643</td>\n",
       "    </tr>\n",
       "    <tr>\n",
       "      <th>85</th>\n",
       "      <td>(event:article@High, event:totalPaymentAmount@Zero)</td>\n",
       "      <td>(event:amount@Medium)</td>\n",
       "      <td>0.384059</td>\n",
       "      <td>0.411438</td>\n",
       "      <td>0.224207</td>\n",
       "      <td>0.583782</td>\n",
       "      <td>1.418881</td>\n",
       "      <td>0.066190</td>\n",
       "      <td>1.414071</td>\n",
       "    </tr>\n",
       "    <tr>\n",
       "      <th>86</th>\n",
       "      <td>(event:amount@Medium)</td>\n",
       "      <td>(event:article@High, event:totalPaymentAmount@Zero)</td>\n",
       "      <td>0.411438</td>\n",
       "      <td>0.384059</td>\n",
       "      <td>0.224207</td>\n",
       "      <td>0.544934</td>\n",
       "      <td>1.418881</td>\n",
       "      <td>0.066190</td>\n",
       "      <td>1.353521</td>\n",
       "    </tr>\n",
       "    <tr>\n",
       "      <th>87</th>\n",
       "      <td>(event:totalPaymentAmount@Zero)</td>\n",
       "      <td>(event:amount@Medium, event:article@High)</td>\n",
       "      <td>0.536384</td>\n",
       "      <td>0.318188</td>\n",
       "      <td>0.224207</td>\n",
       "      <td>0.417997</td>\n",
       "      <td>1.313679</td>\n",
       "      <td>0.053536</td>\n",
       "      <td>1.171492</td>\n",
       "    </tr>\n",
       "  </tbody>\n",
       "</table>\n",
       "<p>88 rows × 9 columns</p>\n",
       "</div>"
      ],
      "text/plain": [
       "                                            antecedents  \\\n",
       "0                            (event:notificationType@P)   \n",
       "1                                    (event:lastSent@N)   \n",
       "2                                 (event:amount@Medium)   \n",
       "3                                    (event:lastSent@N)   \n",
       "4                       (event:totalPaymentAmount@Zero)   \n",
       "..                                                  ...   \n",
       "83                                   (event:amount@Low)   \n",
       "84            (event:amount@Medium, event:article@High)   \n",
       "85  (event:article@High, event:totalPaymentAmount@Zero)   \n",
       "86                                (event:amount@Medium)   \n",
       "87                      (event:totalPaymentAmount@Zero)   \n",
       "\n",
       "                                            consequents  antecedent support  \\\n",
       "0                                    (event:lastSent@N)            0.530199   \n",
       "1                            (event:notificationType@P)            0.201589   \n",
       "2                                    (event:lastSent@N)            0.411438   \n",
       "3                                 (event:amount@Medium)            0.201589   \n",
       "4                                    (event:lastSent@N)            0.536384   \n",
       "..                                                  ...                 ...   \n",
       "83   (event:article@High, event:totalPaymentAmount@Low)            0.482151   \n",
       "84                      (event:totalPaymentAmount@Zero)            0.318188   \n",
       "85                                (event:amount@Medium)            0.384059   \n",
       "86  (event:article@High, event:totalPaymentAmount@Zero)            0.411438   \n",
       "87            (event:amount@Medium, event:article@High)            0.536384   \n",
       "\n",
       "    consequent support   support  confidence      lift  leverage  conviction  \n",
       "0             0.201589  0.201137    0.379362  1.881854  0.094255    1.286435  \n",
       "1             0.530199  0.201137    0.997757  1.881854  0.094255  209.427683  \n",
       "2             0.201589  0.141664    0.344314  1.707995  0.058722    1.217672  \n",
       "3             0.411438  0.141664    0.702735  1.707995  0.058722    1.979921  \n",
       "4             0.201589  0.163989    0.305731  1.516600  0.055860    1.150001  \n",
       "..                 ...       ...         ...       ...       ...         ...  \n",
       "83            0.227379  0.202314    0.419608  1.845411  0.092683    1.331205  \n",
       "84            0.536384  0.224207    0.704636  1.313679  0.053536    1.569643  \n",
       "85            0.411438  0.224207    0.583782  1.418881  0.066190    1.414071  \n",
       "86            0.384059  0.224207    0.544934  1.418881  0.066190    1.353521  \n",
       "87            0.318188  0.224207    0.417997  1.313679  0.053536    1.171492  \n",
       "\n",
       "[88 rows x 9 columns]"
      ]
     },
     "execution_count": 84,
     "metadata": {},
     "output_type": "execute_result"
    }
   ],
   "source": [
    "rules_mlxtend1"
   ]
  },
  {
   "cell_type": "code",
   "execution_count": 89,
   "id": "32c06e83",
   "metadata": {},
   "outputs": [
    {
     "data": {
      "text/html": [
       "<div>\n",
       "<style scoped>\n",
       "    .dataframe tbody tr th:only-of-type {\n",
       "        vertical-align: middle;\n",
       "    }\n",
       "\n",
       "    .dataframe tbody tr th {\n",
       "        vertical-align: top;\n",
       "    }\n",
       "\n",
       "    .dataframe thead th {\n",
       "        text-align: right;\n",
       "    }\n",
       "</style>\n",
       "<table border=\"1\" class=\"dataframe\">\n",
       "  <thead>\n",
       "    <tr style=\"text-align: right;\">\n",
       "      <th></th>\n",
       "      <th>antecedent support</th>\n",
       "      <th>consequent support</th>\n",
       "      <th>support</th>\n",
       "      <th>confidence</th>\n",
       "      <th>lift</th>\n",
       "      <th>leverage</th>\n",
       "      <th>conviction</th>\n",
       "    </tr>\n",
       "  </thead>\n",
       "  <tbody>\n",
       "    <tr>\n",
       "      <th>count</th>\n",
       "      <td>88.000000</td>\n",
       "      <td>88.000000</td>\n",
       "      <td>88.000000</td>\n",
       "      <td>88.000000</td>\n",
       "      <td>88.000000</td>\n",
       "      <td>88.000000</td>\n",
       "      <td>88.000000</td>\n",
       "    </tr>\n",
       "    <tr>\n",
       "      <th>mean</th>\n",
       "      <td>0.373454</td>\n",
       "      <td>0.371408</td>\n",
       "      <td>0.216417</td>\n",
       "      <td>0.629698</td>\n",
       "      <td>1.718850</td>\n",
       "      <td>0.089679</td>\n",
       "      <td>inf</td>\n",
       "    </tr>\n",
       "    <tr>\n",
       "      <th>std</th>\n",
       "      <td>0.123412</td>\n",
       "      <td>0.123588</td>\n",
       "      <td>0.066254</td>\n",
       "      <td>0.206570</td>\n",
       "      <td>0.217958</td>\n",
       "      <td>0.029159</td>\n",
       "      <td>NaN</td>\n",
       "    </tr>\n",
       "    <tr>\n",
       "      <th>min</th>\n",
       "      <td>0.113394</td>\n",
       "      <td>0.115894</td>\n",
       "      <td>0.107774</td>\n",
       "      <td>0.223528</td>\n",
       "      <td>1.313679</td>\n",
       "      <td>0.045272</td>\n",
       "      <td>1.138619</td>\n",
       "    </tr>\n",
       "    <tr>\n",
       "      <th>25%</th>\n",
       "      <td>0.299018</td>\n",
       "      <td>0.291508</td>\n",
       "      <td>0.163982</td>\n",
       "      <td>0.423280</td>\n",
       "      <td>1.519111</td>\n",
       "      <td>0.066167</td>\n",
       "      <td>1.332628</td>\n",
       "    </tr>\n",
       "    <tr>\n",
       "      <th>50%</th>\n",
       "      <td>0.377483</td>\n",
       "      <td>0.378274</td>\n",
       "      <td>0.220197</td>\n",
       "      <td>0.653182</td>\n",
       "      <td>1.780459</td>\n",
       "      <td>0.087317</td>\n",
       "      <td>1.649456</td>\n",
       "    </tr>\n",
       "    <tr>\n",
       "      <th>75%</th>\n",
       "      <td>0.495413</td>\n",
       "      <td>0.494163</td>\n",
       "      <td>0.278719</td>\n",
       "      <td>0.745219</td>\n",
       "      <td>1.883210</td>\n",
       "      <td>0.106997</td>\n",
       "      <td>2.172151</td>\n",
       "    </tr>\n",
       "    <tr>\n",
       "      <th>max</th>\n",
       "      <td>0.548884</td>\n",
       "      <td>0.536384</td>\n",
       "      <td>0.399714</td>\n",
       "      <td>1.000000</td>\n",
       "      <td>2.040420</td>\n",
       "      <td>0.162762</td>\n",
       "      <td>inf</td>\n",
       "    </tr>\n",
       "  </tbody>\n",
       "</table>\n",
       "</div>"
      ],
      "text/plain": [
       "       antecedent support  consequent support    support  confidence  \\\n",
       "count           88.000000           88.000000  88.000000   88.000000   \n",
       "mean             0.373454            0.371408   0.216417    0.629698   \n",
       "std              0.123412            0.123588   0.066254    0.206570   \n",
       "min              0.113394            0.115894   0.107774    0.223528   \n",
       "25%              0.299018            0.291508   0.163982    0.423280   \n",
       "50%              0.377483            0.378274   0.220197    0.653182   \n",
       "75%              0.495413            0.494163   0.278719    0.745219   \n",
       "max              0.548884            0.536384   0.399714    1.000000   \n",
       "\n",
       "            lift   leverage  conviction  \n",
       "count  88.000000  88.000000   88.000000  \n",
       "mean    1.718850   0.089679         inf  \n",
       "std     0.217958   0.029159         NaN  \n",
       "min     1.313679   0.045272    1.138619  \n",
       "25%     1.519111   0.066167    1.332628  \n",
       "50%     1.780459   0.087317    1.649456  \n",
       "75%     1.883210   0.106997    2.172151  \n",
       "max     2.040420   0.162762         inf  "
      ]
     },
     "execution_count": 89,
     "metadata": {},
     "output_type": "execute_result"
    }
   ],
   "source": [
    "rules_mlxtend1.describe()"
   ]
  },
  {
   "cell_type": "code",
   "execution_count": 86,
   "id": "76c72c0b",
   "metadata": {},
   "outputs": [],
   "source": [
    "antecedent_support = rules_mlxtend1['antecedent support'].to_numpy()\n",
    "consequent_support = rules_mlxtend1['consequent support'].to_numpy()\n",
    "\n"
   ]
  },
  {
   "cell_type": "code",
   "execution_count": 77,
   "id": "f0b420d1",
   "metadata": {},
   "outputs": [],
   "source": [
    "support=rules_mlxtend1['support'].to_numpy()\n",
    "confidence=rules_mlxtend1['confidence'].to_numpy()"
   ]
  },
  {
   "cell_type": "code",
   "execution_count": 87,
   "id": "6aa9a5ba",
   "metadata": {},
   "outputs": [],
   "source": [
    "lift=rules_mlxtend1['lift'].to_numpy()\n",
    "leverage=rules_mlxtend1['leverage'].to_numpy()"
   ]
  },
  {
   "cell_type": "markdown",
   "id": "08ba5f17",
   "metadata": {},
   "source": [
    "### Support and Confidence"
   ]
  },
  {
   "cell_type": "code",
   "execution_count": 56,
   "id": "5cc5922f",
   "metadata": {},
   "outputs": [
    {
     "data": {
      "image/png": "[encoded data removed]",
      "text/plain": [
       "<Figure size 432x288 with 1 Axes>"
      ]
     },
     "metadata": {
      "needs_background": "light"
     },
     "output_type": "display_data"
    }
   ],
   "source": [
    "import numpy as np\n",
    "import random\n",
    "import matplotlib.pyplot as plt\n",
    " \n",
    "for i in range (len(support)):\n",
    "    support[i] = support[i] + 0.0025 * (random.randint(1,10) - 5) \n",
    "    confidence[i] = confidence[i] + 0.0025 * (random.randint(1,10) - 5)\n",
    "plt.scatter(support, confidence,   alpha=0.5, marker=\"*\")\n",
    "plt.plot(support, np.poly1d(np.polyfit(support, confidence, 1))(support),'r')\n",
    "plt.xlabel('support')\n",
    "plt.ylabel('confidence') \n",
    "plt.title('support and confidence')\n",
    "plt.show()\n",
    "#https://intelligentonlinetools.com/blog/2018/02/10/how-to-create-data-visualization-for-association-rules-in-data-mining/"
   ]
  },
  {
   "cell_type": "markdown",
   "id": "a051ccbe",
   "metadata": {},
   "source": [
    "### Consequent Support and Confidence"
   ]
  },
  {
   "cell_type": "code",
   "execution_count": 62,
   "id": "381f2080",
   "metadata": {},
   "outputs": [
    {
     "data": {
      "image/png": "[encoded data removed]",
      "text/plain": [
       "<Figure size 432x288 with 1 Axes>"
      ]
     },
     "metadata": {
      "needs_background": "light"
     },
     "output_type": "display_data"
    }
   ],
   "source": [
    "import random\n",
    "import matplotlib.pyplot as plt\n",
    " \n",
    "for i in range (len(consequent_support)):\n",
    "    consequent_support[i] = consequent_support[i] + 0.0025 * (random.randint(1,10) - 5) \n",
    "    confidence[i] = confidence[i] + 0.0025 * (random.randint(1,10) - 5)\n",
    "plt.scatter(consequent_support, confidence,   alpha=0.5, marker=\"*\")\n",
    "plt.plot(consequent_support, np.poly1d(np.polyfit(consequent_support, confidence, 1))(consequent_support),'r')\n",
    "plt.xlabel('consequent support')\n",
    "plt.ylabel('confidence') \n",
    "plt.title('consequent support and confidence')\n",
    "plt.show()"
   ]
  },
  {
   "cell_type": "markdown",
   "id": "cd15ed93",
   "metadata": {},
   "source": [
    "### Antecedent support and confidence"
   ]
  },
  {
   "cell_type": "code",
   "execution_count": 71,
   "id": "8df72082",
   "metadata": {},
   "outputs": [
    {
     "data": {
      "image/png": "[encoded data removed]",
      "text/plain": [
       "<Figure size 432x288 with 1 Axes>"
      ]
     },
     "metadata": {
      "needs_background": "light"
     },
     "output_type": "display_data"
    }
   ],
   "source": [
    "import random\n",
    "import matplotlib.pyplot as plt\n",
    " \n",
    "for i in range (len(antecedent_support)):\n",
    "    antecedent_support[i] = antecedent_support[i] + 0.0025 * (random.randint(1,10) - 5) \n",
    "    confidence[i] = confidence[i] + 0.0025 * (random.randint(1,10) - 5)\n",
    "plt.scatter(antecedent_support, confidence,   alpha=0.5, marker=\"*\")\n",
    "plt.plot(antecedent_support, np.poly1d(np.polyfit(antecedent_support, confidence, 1))(antecedent_support),'r')\n",
    "plt.xlabel('antecedent support')\n",
    "plt.ylabel('confidence') \n",
    "plt.title('antecedent support and confidence')\n",
    "plt.show()"
   ]
  },
  {
   "cell_type": "markdown",
   "id": "b6ad49e5",
   "metadata": {},
   "source": [
    "### CONFIDENCE AND CONVICTION"
   ]
  },
  {
   "cell_type": "code",
   "execution_count": 78,
   "id": "086f796d",
   "metadata": {},
   "outputs": [
    {
     "data": {
      "text/html": [
       "<div>\n",
       "<style scoped>\n",
       "    .dataframe tbody tr th:only-of-type {\n",
       "        vertical-align: middle;\n",
       "    }\n",
       "\n",
       "    .dataframe tbody tr th {\n",
       "        vertical-align: top;\n",
       "    }\n",
       "\n",
       "    .dataframe thead th {\n",
       "        text-align: right;\n",
       "    }\n",
       "</style>\n",
       "<table border=\"1\" class=\"dataframe\">\n",
       "  <thead>\n",
       "    <tr style=\"text-align: right;\">\n",
       "      <th></th>\n",
       "      <th>antecedent support</th>\n",
       "      <th>consequent support</th>\n",
       "      <th>support</th>\n",
       "      <th>confidence</th>\n",
       "      <th>lift</th>\n",
       "      <th>leverage</th>\n",
       "      <th>conviction</th>\n",
       "    </tr>\n",
       "  </thead>\n",
       "  <tbody>\n",
       "    <tr>\n",
       "      <th>count</th>\n",
       "      <td>84.000000</td>\n",
       "      <td>84.000000</td>\n",
       "      <td>84.000000</td>\n",
       "      <td>84.000000</td>\n",
       "      <td>84.000000</td>\n",
       "      <td>84.000000</td>\n",
       "      <td>84.000000</td>\n",
       "    </tr>\n",
       "    <tr>\n",
       "      <th>mean</th>\n",
       "      <td>0.377493</td>\n",
       "      <td>0.363847</td>\n",
       "      <td>0.215120</td>\n",
       "      <td>0.612065</td>\n",
       "      <td>1.710886</td>\n",
       "      <td>0.085017</td>\n",
       "      <td>147.362915</td>\n",
       "    </tr>\n",
       "    <tr>\n",
       "      <th>std</th>\n",
       "      <td>0.122951</td>\n",
       "      <td>0.121397</td>\n",
       "      <td>0.067043</td>\n",
       "      <td>0.194434</td>\n",
       "      <td>0.219962</td>\n",
       "      <td>0.027175</td>\n",
       "      <td>1263.573599</td>\n",
       "    </tr>\n",
       "    <tr>\n",
       "      <th>min</th>\n",
       "      <td>0.115894</td>\n",
       "      <td>0.115894</td>\n",
       "      <td>0.107774</td>\n",
       "      <td>0.223528</td>\n",
       "      <td>1.313679</td>\n",
       "      <td>0.051896</td>\n",
       "      <td>1.138619</td>\n",
       "    </tr>\n",
       "    <tr>\n",
       "      <th>25%</th>\n",
       "      <td>0.304685</td>\n",
       "      <td>0.291494</td>\n",
       "      <td>0.163982</td>\n",
       "      <td>0.419205</td>\n",
       "      <td>1.516600</td>\n",
       "      <td>0.065599</td>\n",
       "      <td>1.331138</td>\n",
       "    </tr>\n",
       "    <tr>\n",
       "      <th>50%</th>\n",
       "      <td>0.381166</td>\n",
       "      <td>0.377090</td>\n",
       "      <td>0.219126</td>\n",
       "      <td>0.594050</td>\n",
       "      <td>1.769897</td>\n",
       "      <td>0.078191</td>\n",
       "      <td>1.631857</td>\n",
       "    </tr>\n",
       "    <tr>\n",
       "      <th>75%</th>\n",
       "      <td>0.530199</td>\n",
       "      <td>0.482151</td>\n",
       "      <td>0.278719</td>\n",
       "      <td>0.728204</td>\n",
       "      <td>1.881854</td>\n",
       "      <td>0.103000</td>\n",
       "      <td>2.118755</td>\n",
       "    </tr>\n",
       "    <tr>\n",
       "      <th>max</th>\n",
       "      <td>0.536384</td>\n",
       "      <td>0.536384</td>\n",
       "      <td>0.399714</td>\n",
       "      <td>0.999959</td>\n",
       "      <td>2.040420</td>\n",
       "      <td>0.157762</td>\n",
       "      <td>11584.826734</td>\n",
       "    </tr>\n",
       "  </tbody>\n",
       "</table>\n",
       "</div>"
      ],
      "text/plain": [
       "       antecedent support  consequent support    support  confidence  \\\n",
       "count           84.000000           84.000000  84.000000   84.000000   \n",
       "mean             0.377493            0.363847   0.215120    0.612065   \n",
       "std              0.122951            0.121397   0.067043    0.194434   \n",
       "min              0.115894            0.115894   0.107774    0.223528   \n",
       "25%              0.304685            0.291494   0.163982    0.419205   \n",
       "50%              0.381166            0.377090   0.219126    0.594050   \n",
       "75%              0.530199            0.482151   0.278719    0.728204   \n",
       "max              0.536384            0.536384   0.399714    0.999959   \n",
       "\n",
       "            lift   leverage    conviction  \n",
       "count  84.000000  84.000000     84.000000  \n",
       "mean    1.710886   0.085017    147.362915  \n",
       "std     0.219962   0.027175   1263.573599  \n",
       "min     1.313679   0.051896      1.138619  \n",
       "25%     1.516600   0.065599      1.331138  \n",
       "50%     1.769897   0.078191      1.631857  \n",
       "75%     1.881854   0.103000      2.118755  \n",
       "max     2.040420   0.157762  11584.826734  "
      ]
     },
     "execution_count": 78,
     "metadata": {},
     "output_type": "execute_result"
    }
   ],
   "source": [
    "rules_not_inf = rules_mlxtend1[rules_mlxtend1['conviction'] != float('inf')]\n",
    "rules_not_inf.describe()"
   ]
  },
  {
   "cell_type": "code",
   "execution_count": 79,
   "id": "06af6480",
   "metadata": {},
   "outputs": [],
   "source": [
    "conviction=rules_not_inf['conviction'].to_numpy()\n",
    "confidence=rules_not_inf['confidence'].to_numpy()"
   ]
  },
  {
   "cell_type": "code",
   "execution_count": 80,
   "id": "6d053501",
   "metadata": {
    "scrolled": true
   },
   "outputs": [
    {
     "name": "stdout",
     "output_type": "stream",
     "text": [
      "[ True False  True  True  True  True  True  True  True  True  True False\n",
      "  True  True  True  True False  True  True  True  True  True False  True\n",
      "  True  True  True  True False  True  True  True  True  True False  True\n",
      "  True  True  True  True  True  True  True  True  True  True  True  True\n",
      "  True  True  True  True  True  True  True  True  True  True  True  True\n",
      "  True False  True  True  True  True  True  True  True  True  True  True\n",
      "  True  True False  True  True  True  True  True  True  True  True  True]\n"
     ]
    }
   ],
   "source": [
    "an_array = conviction\n",
    "median = np.median(an_array)\n",
    "distance_from_median = abs(an_array - median)\n",
    "s = distance_from_median/median \n",
    "not_outlier = s < 2\n",
    "print(not_outlier)"
   ]
  },
  {
   "cell_type": "code",
   "execution_count": 81,
   "id": "e52970e0",
   "metadata": {},
   "outputs": [],
   "source": [
    "conviction=rules_not_inf[not_outlier]['conviction'].to_numpy()\n",
    "confidence=rules_not_inf[not_outlier]['confidence'].to_numpy()"
   ]
  },
  {
   "cell_type": "code",
   "execution_count": 82,
   "id": "2a8e1777",
   "metadata": {},
   "outputs": [
    {
     "data": {
      "image/png": "[encoded data removed]",
      "text/plain": [
       "<Figure size 432x288 with 1 Axes>"
      ]
     },
     "metadata": {
      "needs_background": "light"
     },
     "output_type": "display_data"
    }
   ],
   "source": [
    "import random\n",
    "import matplotlib.pyplot as plt\n",
    " \n",
    "for i in range (len(conviction)):\n",
    "    conviction[i] = conviction[i] + 0.0025 * (random.randint(1,10) - 5) \n",
    "    confidence[i] = confidence[i] + 0.0025 * (random.randint(1,10) - 5)\n",
    "plt.scatter(conviction, confidence,   alpha=0.5, marker=\"*\")\n",
    "#plt.plot(conviction, np.poly1d(np.polyfit(conviction, confidence, 1))(conviction),'r')\n",
    "plt.xlabel('conviction')\n",
    "plt.ylabel('confidence') \n",
    "plt.show()\n",
    "#https://stackoverflow.com/questions/11686720/is-there-a-numpy-builtin-to-reject-outliers-from-a-list"
   ]
  },
  {
   "cell_type": "markdown",
   "id": "4243c7a5",
   "metadata": {},
   "source": [
    "### Antecedent Support and Leverage"
   ]
  },
  {
   "cell_type": "code",
   "execution_count": 88,
   "id": "ffcad7ac",
   "metadata": {},
   "outputs": [
    {
     "data": {
      "image/png": "[encoded data removed]",
      "text/plain": [
       "<Figure size 432x288 with 1 Axes>"
      ]
     },
     "metadata": {
      "needs_background": "light"
     },
     "output_type": "display_data"
    }
   ],
   "source": [
    "import random\n",
    "import matplotlib.pyplot as plt\n",
    " \n",
    "for i in range (len(antecedent_support)):\n",
    "    antecedent_support[i] = antecedent_support[i] + 0.0025 * (random.randint(1,10) - 5) \n",
    "    leverage[i] = leverage[i] + 0.0025 * (random.randint(1,10) - 5)\n",
    "plt.scatter(antecedent_support, leverage,   alpha=0.5, marker=\"*\")\n",
    "plt.plot(antecedent_support, np.poly1d(np.polyfit(antecedent_support, leverage, 1))(antecedent_support),'r')\n",
    "plt.xlabel('antecedent support')\n",
    "plt.ylabel('leverage') \n",
    "plt.title('antecedent support and leverage')\n",
    "plt.show()"
   ]
  },
  {
   "cell_type": "markdown",
   "id": "556f71d5",
   "metadata": {},
   "source": [
    "### Consequent support and Leverage"
   ]
  },
  {
   "cell_type": "code",
   "execution_count": 90,
   "id": "bfa59059",
   "metadata": {},
   "outputs": [
    {
     "data": {
      "image/png": "[encoded data removed]",
      "text/plain": [
       "<Figure size 432x288 with 1 Axes>"
      ]
     },
     "metadata": {
      "needs_background": "light"
     },
     "output_type": "display_data"
    }
   ],
   "source": [
    "import random\n",
    "import matplotlib.pyplot as plt\n",
    " \n",
    "for i in range (len(consequent_support)):\n",
    "    consequent_support[i] = consequent_support[i] + 0.0025 * (random.randint(1,10) - 5) \n",
    "    leverage[i] = leverage[i] + 0.0025 * (random.randint(1,10) - 5)\n",
    "plt.scatter(consequent_support, leverage,   alpha=0.5, marker=\"*\")\n",
    "plt.plot(consequent_support, np.poly1d(np.polyfit(consequent_support, leverage, 1))(consequent_support),'r')\n",
    "plt.xlabel('consequent support')\n",
    "plt.ylabel('leverage') \n",
    "plt.title('consequent support and leverage')\n",
    "plt.show()"
   ]
  },
  {
   "cell_type": "code",
   "execution_count": null,
   "id": "147a4b43",
   "metadata": {},
   "outputs": [],
   "source": []
  }
 ],
 "metadata": {
  "kernelspec": {
   "display_name": "Python 3 (ipykernel)",
   "language": "python",
   "name": "python3"
  },
  "language_info": {
   "codemirror_mode": {
    "name": "ipython",
    "version": 3
   },
   "file_extension": ".py",
   "mimetype": "text/x-python",
   "name": "python",
   "nbconvert_exporter": "python",
   "pygments_lexer": "ipython3",
   "version": "3.8.0"
  }
 },
 "nbformat": 4,
 "nbformat_minor": 5
}
